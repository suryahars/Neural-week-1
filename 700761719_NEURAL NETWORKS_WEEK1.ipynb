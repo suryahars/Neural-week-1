{
 "cells": [
  {
   "cell_type": "code",
   "execution_count": null,
   "metadata": {
    "id": "y3G2MDVoXF8C"
   },
   "outputs": [],
   "source": [
    "\n",
    "#1 question\n",
    "\n",
    "def fullname(first_name,last_name):\n",
    "  fullname = first_name+\" \"+ last_name\n",
    "  return fullname\n",
    "\n",
    "def string_alternative(full_name):\n",
    "  return  full_name[::2]\n",
    "\n",
    "def user():\n",
    "  first_name = input(\" your first name = \")\n",
    "  last_name = input (\" your last name = \")\n",
    "  full_name = fullname(first_name,last_name)\n",
    "  alter=string_alternative(full_name)\n",
    "  print(f' fullname = {full_name}')\n",
    "  print(f'string alternative = {alter}')\n",
    "\n",
    "user()\n",
    "\n",
    "#2 question\n",
    "def count_words(line):\n",
    "    words = line.split()\n",
    "    word_counts = {}\n",
    "\n",
    "    for i in words:\n",
    "        if i in word_counts:\n",
    "            word_counts[i] += 1\n",
    "        else:\n",
    "            word_counts[i] = 1\n",
    "    return word_counts\n",
    "\n",
    "def file():\n",
    "\n",
    "    with open(\"input.txt\", \"r\") as file:\n",
    "        lines = file.readlines()\n",
    "\n",
    "    with open(\"output.txt\", \"w\") as output:\n",
    "\n",
    "        for line in lines:\n",
    "            line = line.strip()\n",
    "            output.write(line + \"\\n\")\n",
    "            word_counts = count_words(line)\n",
    "\n",
    "            output.write(\"Word_Count:\\n\")\n",
    "            for word, count in word_counts.items():\n",
    "                output.write(f\"{word}: {count}\\n\")\n",
    "            output.write(\"\\n\")\n",
    "\n",
    "    print(\"word count is successfully noted\")\n",
    "\n",
    "\n",
    "file()\n",
    "\n",
    "#3 question\n",
    "def user():\n",
    "    number = int(input(\"Enter number of persons: \"))\n",
    "    list1 = []\n",
    "    list2 = []\n",
    "    print(\"Enter their heights in inches:\")\n",
    "    for i in range(number):\n",
    "        height = float(input())\n",
    "        list1.append(height)\n",
    "    for i in list1:\n",
    "        list2.append(i * 2.54)\n",
    "    print(f'The new list in centimeters is = {list2}')\n",
    "\n",
    "user()\n"
   ]
  },
  {
   "cell_type": "markdown",
   "metadata": {
    "id": "RhP0uCCUXMoK"
   },
   "source": [
    "EXPLINATION VIDEO LINK\n",
    " https://drive.google.com/file/d/1SUsQTp2Vej6JYJyzwqeZFTl7660iXgoQ/view?usp=drive_link"
   ]
  }
 ],
 "metadata": {
  "colab": {
   "provenance": []
  },
  "kernelspec": {
   "display_name": "Python 3",
   "name": "python3"
  },
  "language_info": {
   "name": "python"
  }
 },
 "nbformat": 4,
 "nbformat_minor": 0
}
